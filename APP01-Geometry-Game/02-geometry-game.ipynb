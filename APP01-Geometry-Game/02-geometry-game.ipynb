{
 "cells": [
  {
   "cell_type": "code",
   "execution_count": null,
   "metadata": {},
   "outputs": [],
   "source": [
    "class Point:\n",
    "    def __init__(self, x, y): # Constructor\n",
    "        print(\"I am __init__\")\n",
    "        self.x = x\n",
    "        self.y = y\n",
    "    \n",
    "    def falls_in_rectangle(self, lowleft, upright):\n",
    "        print(\"I am a normal method\")\n",
    "        if lowleft[0] < self.x < upright[0] \\\n",
    "        and lowleft[1] < self.y < upright[1]:\n",
    "            return True\n",
    "        else:\n",
    "            return False\n",
    "    \n",
    "    def distance_from_point(self, x, y):\n",
    "        return ((self.x-x)**2 +\n",
    "                (self.y-y)**2) **0.5"
   ]
  }
 ],
 "metadata": {
  "language_info": {
   "name": "python"
  }
 },
 "nbformat": 4,
 "nbformat_minor": 2
}

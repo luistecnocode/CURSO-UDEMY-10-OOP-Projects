{
 "cells": [
  {
   "cell_type": "code",
   "execution_count": 25,
   "metadata": {},
   "outputs": [],
   "source": [
    "# Definimos las clases principales Punto y Rectangulo\n",
    "class Point:\n",
    "    def __init__(self, x, y): # Constructor\n",
    "        self.x = x\n",
    "        self.y = y\n",
    "    \n",
    "    def falls_in_rectangle(self, rectangle):\n",
    "        '''\n",
    "        Nos pide un rectángulo, que tendremos que definirlo previamente.\n",
    "        Rectángulo está definido por dos Puntos(lowleft y upright), por ello\n",
    "        cualquier referencia a una esquina será rectangle.lowleft.x por ej.\n",
    "        Al ser un método de Punto, el munto es self que tendrá su x y su y\n",
    "        '''\n",
    "        if rectangle.lowleft.x < self.x < rectangle.upright.x \\\n",
    "        and rectangle.lowleft.y < self.y < rectangle.upright.y:\n",
    "            return True\n",
    "        else:\n",
    "            return False\n",
    "        \n",
    "    def distance_from_point(self, x, y):\n",
    "        return ((self.x-x)**2 +\n",
    "                (self.y-y)**2) **0.5\n",
    "\n",
    "class Rectangle:\n",
    "    '''\n",
    "    Su constructor pide dos Puntos que se crearán en el main.\n",
    "    '''\n",
    "    def __init__(self, lowleft, upright):\n",
    "        self.lowleft = lowleft\n",
    "        self.upright =upright"
   ]
  },
  {
   "cell_type": "code",
   "execution_count": 26,
   "metadata": {},
   "outputs": [
    {
     "name": "stdout",
     "output_type": "stream",
     "text": [
      "Recatangle Coordinates: x1= 6  y1= 7 and  x2= 11  y2= 13\n"
     ]
    }
   ],
   "source": [
    "# Crearemos un rectangulo aleatorio\n",
    "from random import randint\n",
    "\n",
    "# Definimos el rectángulo mediante dos puntos\n",
    "# Cada punto, su coordenada es aleatoria.\n",
    "rectangle = Rectangle(\n",
    "    Point(randint(0, 9), randint(0, 9)), \n",
    "    Point(randint(10, 19), randint(10, 19)))\n",
    "\n",
    "print(\"Recatangle Coordinates:\",\n",
    "      \"x1=\", rectangle.lowleft.x, \n",
    "      \" y1=\", rectangle.lowleft.y, \"and\",\n",
    "      \" x2=\", rectangle.upright.x,\n",
    "      \" y2=\", rectangle.upright.y)\n",
    "\n"
   ]
  },
  {
   "cell_type": "code",
   "execution_count": 27,
   "metadata": {},
   "outputs": [
    {
     "name": "stdout",
     "output_type": "stream",
     "text": [
      "Your point was inside rectangle:  False\n"
     ]
    }
   ],
   "source": [
    "# Pedimos un punto al usuario\n",
    "# Hay que convertirlo a float porque los inputs nos devuelven strings\n",
    "user_point = Point(float(input(\"Guess X: \")),\n",
    "                   float(input(\"Guess Y: \")))\n",
    "\n",
    "# Imprimimos si el usuario ha acertado al elegir el punto comprobando \n",
    "# si está o no dentro del rectángulo\n",
    "print(\"Your point was inside rectangle: \", user_point.falls_in_rectangle(rectangle))\n"
   ]
  }
 ],
 "metadata": {
  "kernelspec": {
   "display_name": "Python 3",
   "language": "python",
   "name": "python3"
  },
  "language_info": {
   "codemirror_mode": {
    "name": "ipython",
    "version": 3
   },
   "file_extension": ".py",
   "mimetype": "text/x-python",
   "name": "python",
   "nbconvert_exporter": "python",
   "pygments_lexer": "ipython3",
   "version": "3.13.0"
  }
 },
 "nbformat": 4,
 "nbformat_minor": 2
}
